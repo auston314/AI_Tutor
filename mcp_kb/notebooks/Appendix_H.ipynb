{
 "cells": [
  {
   "cell_type": "markdown",
   "id": "a8d9a441-db1a-4586-8032-1e4a736722c5",
   "metadata": {},
   "source": [
    "## Appendix H \n",
    "\n",
    "### Ionization Constants Of Weak Acids\n",
    "\n",
    "Table H1 **Ionization Constants of Weak Acids**\n",
    "\n",
    "\n",
    "| Acid | Formula | $K_{a}$ at $25^{\\circ} \\mathrm{C}$ | Lewis Structure |\n",
    "| :--: | :--: | :--: | :--: |\n",
    "| acetic | $\\mathrm{CH}_{3} \\mathrm{CO}_{2} \\mathrm{H}$ | $1.8 \\times 10^{-5}$ | ![Image](Appendix_H_images/img-0.png)|\n",
    "| arsenic | $\\mathrm{H}_{3} \\mathrm{AsO}_{4}$ | $5.5 \\times 10^{-3}$ | |\n",
    "|  | $\\mathrm{H}_{2} \\mathrm{AsO}_{4}^{-}$ | $1.7 \\times 10^{-7}$ |  |\n",
    "|  | $\\mathrm{HAsO}_{4}{ }^{2-}$ | $3.0 \\times 10^{-12}$ | ![Image](Appendix_H_images/img-1.png) |\n",
    "| arsenous | $\\mathrm{H}_{3} \\mathrm{AsO}_{3}$ | $5.1 \\times 10^{-10}$ |![Image](Appendix_H_images/img-2.png)|\n",
    "| boric | $\\mathrm{H}_{3} \\mathrm{BO}_{3}$ | $5.4 \\times 10^{-10}$ | ![Image](Appendix_H_images/img-3.png) |\n",
    "| carbonic | $\\mathrm{H}_{2} \\mathrm{CO}_{3}$ | $4.3 \\times 10^{-7}$ | |\n",
    "|  | $\\mathrm{HCO}_{3}{ }^{-}$ | $4.7 \\times 10^{-11}$ | ![Image](Appendix_H_images/img-4.png) |\n",
    "| cyanic | HCNO | $2 \\times 10^{-4}$ | ![Image](Appendix_H_images/img-5.png) |\n",
    "| formic | $\\mathrm{HCO}_{2} \\mathrm{H}$ | $1.8 \\times 10^{-4}$ | ![Image](Appendix_H_images/img-6.png) |\n",
    "| hydrazoic | $\\mathrm{HN}_{3}$ | $2.5 \\times 10^{-5}$ | ![Image](Appendix_H_images/img-7.png)|\n",
    "| hydrocyanic | HCN | $4.9 \\times 10^{-10}$ |  |\n",
    "| hydrofluoric | HF | $6.4 \\times 10^{-4}$ |  |\n",
    "| hydrogen peroxide | $\\mathrm{H}_{2} \\mathrm{O}_{2}$ | $2.4 \\times 10^{-12}$ | ![Image](Appendix_H_images/img-8.png)|\n",
    "| hydrogen selenide | $\\mathrm{H}_{2} \\mathrm{Se}$ | $1.29 \\times 10^{-4}$ |  |\n",
    "|  | $\\mathrm{HSe}^{-}$ | $1 \\times 10^{-12}$ |  |\n",
    "| hydrogen sulfate ion | $\\mathrm{HSO}_{4}^{-}$ | $1.2 \\times 10^{-2}$ | ![Image](Appendix_H_images/img-9.png)|\n",
    "| hydrogen sulfide | $\\mathrm{H}_{2} \\mathrm{~S}$ | $8.9 \\times 10^{-8}$ |  |\n",
    "|  | $\\mathrm{HS}^{-}$ | $1.0 \\times 10^{-19}$ |  |\n",
    "| hydrogen telluride | $\\mathrm{H}_{2} \\mathrm{Te}$ | $2.3 \\times 10^{-3}$ |  |\n",
    "|  | $\\mathrm{HTe}^{-}$ | $1.6 \\times 10^{-11}$ |  |\n",
    "| hypobromous | HBrO | $2.8 \\times 10^{-9}$ |  |\n",
    "| hypochlorous | HClO | $2.9 \\times 10^{-8}$ |  |\n",
    "| nitrous | $\\mathrm{HNO}_{2}$ | $4.6 \\times 10^{-4}$ | ![Image](Appendix_H_images/img-10.png) |\n",
    "| oxalic | $\\mathrm{H}_{2} \\mathrm{C}_{2} \\mathrm{O}_{4}$ | $6.0 \\times 10^{-2}$ |  |\n",
    "|  | $\\mathrm{HC}_{2} \\mathrm{O}_{4}^{-}$ | $6.1 \\times 10^{-5}$ | ![Image](Appendix_H_images/img-11.png) |\n",
    "| phosphoric | $\\mathrm{H}_{3} \\mathrm{PO}_{4}$ | $7.5 \\times 10^{-3}$ |  |\n",
    "|  | $\\mathrm{H}_{2} \\mathrm{PO}_{4}^{-}$ | $6.2 \\times 10^{-8}$ |  |\n",
    "|  | $\\mathrm{HPO}_{4}{ }^{2-}$ | $4.2 \\times 10^{-13}$ | ![Image](Appendix_H_images/img-12.png) |\n",
    "| phosphorous | $\\mathrm{H}_{3} \\mathrm{PO}_{3}$ | $5 \\times 10^{-2}$ |  |\n",
    "|  | $\\mathrm{H}_{2} \\mathrm{PO}_{3}{ }^{-}$ | $2.0 \\times 10^{-7}$ | ![Image](Appendix_H_images/img-13.png) |\n",
    "| sulfurous | $\\mathrm{H}_{2} \\mathrm{SO}_{3}$ | $1.6 \\times 10^{-2}$ |  |\n",
    "|  | $\\mathrm{HSO}_{3}{ }^{-}$ | $6.4 \\times 10^{-8}$ | ![Image](Appendix_H_images/img-14.png) |\n",
    "\n",
    "\n",
    "\n"
   ]
  },
  {
   "cell_type": "code",
   "execution_count": null,
   "id": "5cb5220b-5888-4c1d-8adf-1bd6274232c8",
   "metadata": {},
   "outputs": [],
   "source": []
  }
 ],
 "metadata": {
  "kernelspec": {
   "display_name": "Python 3 (ipykernel)",
   "language": "python",
   "name": "python3"
  },
  "language_info": {
   "codemirror_mode": {
    "name": "ipython",
    "version": 3
   },
   "file_extension": ".py",
   "mimetype": "text/x-python",
   "name": "python",
   "nbconvert_exporter": "python",
   "pygments_lexer": "ipython3",
   "version": "3.13.5"
  }
 },
 "nbformat": 4,
 "nbformat_minor": 5
}
