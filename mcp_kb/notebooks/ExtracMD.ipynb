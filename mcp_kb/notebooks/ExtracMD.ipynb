{
 "cells": [
  {
   "cell_type": "code",
   "execution_count": 5,
   "id": "cd37d0a2-7e50-40cf-b7a3-e41402841f12",
   "metadata": {},
   "outputs": [
    {
     "name": "stdout",
     "output_type": "stream",
     "text": [
      "['Chapter_1.ipynb', 'Chapter_2.ipynb', 'Chapter_3.ipynb', 'Chapter_4.ipynb', 'Chapter_5.ipynb', 'Chapter_6.ipynb', 'Chapter_7.ipynb', 'Chapter_8.ipynb', 'Chapter_9.ipynb', 'Chapter_10.ipynb', 'Chapter_11.ipynb', 'Chapter_12.ipynb', 'Chapter_13.ipynb', 'Chapter_14.ipynb', 'Chapter_15.ipynb', 'Chapter_16.ipynb', 'Chapter_17.ipynb', 'Chapter_18.ipynb', 'Appendix_A.ipynb', 'Appendix_B.ipynb', 'Appendix_C.ipynb', 'Appendix_D.ipynb', 'Appendix_E.ipynb', 'Appendix_F.ipynb', 'Appendix_G.ipynb', 'Appendix_H.ipynb', 'Appendix_I.ipynb', 'Appendix_J.ipynb', 'Appendix_K.ipynb', 'Appendix_L.ipynb', 'Appendix_M.ipynb']\n"
     ]
    }
   ],
   "source": [
    "# Extract markdown text from notebook and save it\n",
    "\n",
    "chapters = [f\"Chapter_{i}.ipynb\" for i in range(1, 19)] + [f\"Appendix_{x}.ipynb\" for x in \"ABCDEFGHIJKLM\"]\n",
    "print(chapters)"
   ]
  },
  {
   "cell_type": "code",
   "execution_count": 11,
   "id": "5ff4337f-6888-4b42-bac8-9684cc69d797",
   "metadata": {},
   "outputs": [],
   "source": [
    "#Modified for one file\n",
    "\n",
    "input_file = '/Users/lindanichvoloda/Intern2025/AI_Tutor/mcp_kb/notebooks/Q_Answer_Key.ipynb'\n",
    "output_file= '/Users/lindanichvoloda/Intern2025/AI_Tutor/mcp_kb/md_files/Q_Answer_Key.md'\n",
    "\n",
    "import json\n",
    "import os \n",
    "\n",
    "with open(input_file, 'r', encoding= 'utf-8') as f:\n",
    "    x = json.load(f)\n",
    "    sents = x['cells'][0]['source']\n",
    "    md = \"\".join(sents)\n",
    "    with open(output_file, \"w\",encoding= 'utf-8') as f:\n",
    "        f.write(md)"
   ]
  },
  {
   "cell_type": "code",
   "execution_count": 8,
   "id": "dd12eab3-ead5-4225-82fc-ed83c086b104",
   "metadata": {},
   "outputs": [
    {
     "ename": "NameError",
     "evalue": "name 'chapters' is not defined",
     "output_type": "error",
     "traceback": [
      "\u001b[31m---------------------------------------------------------------------------\u001b[39m",
      "\u001b[31mNameError\u001b[39m                                 Traceback (most recent call last)",
      "\u001b[36mCell\u001b[39m\u001b[36m \u001b[39m\u001b[32mIn[8]\u001b[39m\u001b[32m, line 2\u001b[39m\n\u001b[32m      1\u001b[39m \u001b[38;5;28;01mimport\u001b[39;00m\u001b[38;5;250m \u001b[39m\u001b[34;01mjson\u001b[39;00m\n\u001b[32m----> \u001b[39m\u001b[32m2\u001b[39m \u001b[38;5;28;01mfor\u001b[39;00m chap \u001b[38;5;129;01min\u001b[39;00m chapters:\n\u001b[32m      3\u001b[39m     chap_name = chap[:-\u001b[32m6\u001b[39m]\n\u001b[32m      4\u001b[39m     \u001b[38;5;28;01mwith\u001b[39;00m \u001b[38;5;28mopen\u001b[39m(chap, \u001b[33m'\u001b[39m\u001b[33mr\u001b[39m\u001b[33m'\u001b[39m) \u001b[38;5;28;01mas\u001b[39;00m f:\n",
      "\u001b[31mNameError\u001b[39m: name 'chapters' is not defined"
     ]
    }
   ],
   "source": [
    "import json\n",
    "for chap in chapters:\n",
    "    chap_name = chap[:-6]\n",
    "    with open(chap, 'r') as f:\n",
    "        x = json.load(f)\n",
    "    sents = x['cells'][0]['source']\n",
    "    md = \"\".join(sents)\n",
    "    with open(f\"new_md/{chap_name}.md\", \"w\") as f:\n",
    "        f.write(md)"
   ]
  },
  {
   "cell_type": "code",
   "execution_count": null,
   "id": "6b38041b-c2ca-4c48-8290-256da491230a",
   "metadata": {},
   "outputs": [],
   "source": []
  }
 ],
 "metadata": {
  "kernelspec": {
   "display_name": "Python 3 (ipykernel)",
   "language": "python",
   "name": "python3"
  },
  "language_info": {
   "codemirror_mode": {
    "name": "ipython",
    "version": 3
   },
   "file_extension": ".py",
   "mimetype": "text/x-python",
   "name": "python",
   "nbconvert_exporter": "python",
   "pygments_lexer": "ipython3",
   "version": "3.13.5"
  }
 },
 "nbformat": 4,
 "nbformat_minor": 5
}
