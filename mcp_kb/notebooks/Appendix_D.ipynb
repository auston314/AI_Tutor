{
 "cells": [
  {
   "cell_type": "markdown",
   "id": "30904e95-7db6-4e6f-a459-0a1b24b49f6c",
   "metadata": {},
   "source": [
    "## Appendix D \n",
    "\n",
    "### Fundamental Physical Constants\n",
    "\n",
    "Table D1 **Fundamental Physical Constants**\n",
    "\n",
    "| Name and Symbol | Value |\n",
    "| :--: | :--: |\n",
    "| atomic mass unit (amu) | $1.6605402 \\times 10^{-27} \\mathrm{~kg}$ |\n",
    "| Avogadro's number | $6.0221367 \\times 10^{23} \\mathrm{~mol}^{-1}$ |\n",
    "| Boltzmann's constant ( $k$ ) | $1.380658 \\times 10^{-23} \\mathrm{~J} \\mathrm{~K}^{-1}$ |\n",
    "| charge-to-mass ratio for electron $\\left(\\mathrm{e} / \\mathrm{m}_{\\mathrm{e}}\\right)$ | $1.75881962 \\times 10^{11} \\mathrm{C} \\mathrm{kg}^{-1}$ |\n",
    "| electron charge (e) | $1.60217733 \\times 10^{-19} \\mathrm{C}$ |\n",
    "| electron rest mass $\\left(m_{\\mathrm{e}}\\right)$ | $9.1093897 \\times 10^{-31} \\mathrm{~kg}$ |\n",
    "| Faraday's constant ( $F$ ) | $9.6485309 \\times 10^{4} \\mathrm{C} \\mathrm{mol}^{-1}$ |\n",
    "| gas constant $(R)$ | $8.205784 \\times 10^{-2} \\mathrm{~L} \\mathrm{~atm} \\mathrm{~mol}^{-1} \\mathrm{~K}^{-1}=8.314510 \\mathrm{~J} \\mathrm{~mol}^{-1} \\mathrm{~K}^{-1}$ |\n",
    "| molar volume of an ideal gas, $1 \\mathrm{~atm}, 0^{\\circ} \\mathrm{C}$ | $22.41409 \\mathrm{~L} \\mathrm{~mol}^{-1}$ |\n",
    "| molar volume of an ideal gas, $1 \\mathrm{bar}, 0^{\\circ} \\mathrm{C}$ | $22.71108 \\mathrm{~L} \\mathrm{~mol}^{-1}$ |\n",
    "| neutron rest mass $\\left(m_{n}\\right)$ | $1.6749274 \\times 10^{-27} \\mathrm{~kg}$ |\n",
    "| Planck's constant ( $h$ ) | $6.6260755 \\times 10^{-34} \\mathrm{~J} \\mathrm{~s}$ |\n",
    "| proton rest mass $\\left(m_{p}\\right)$ | $1.6726231 \\times 10^{-27} \\mathrm{~kg}$ |\n",
    "| Rydberg constant (R) | $1.0973731534 \\times 10^{7} \\mathrm{~m}^{-1}=2.1798736 \\times 10^{-18} \\mathrm{~J}$ |\n",
    "| speed of light (in vacuum) (c) | $2.99792458 \\times 10^{8} \\mathrm{~m} \\mathrm{~s}^{-1}$ |\n",
    "\n"
   ]
  },
  {
   "cell_type": "code",
   "execution_count": null,
   "id": "a88b4b72-00b9-4334-8368-320f13276aa2",
   "metadata": {},
   "outputs": [],
   "source": []
  }
 ],
 "metadata": {
  "kernelspec": {
   "display_name": "Python 3 (ipykernel)",
   "language": "python",
   "name": "python3"
  },
  "language_info": {
   "codemirror_mode": {
    "name": "ipython",
    "version": 3
   },
   "file_extension": ".py",
   "mimetype": "text/x-python",
   "name": "python",
   "nbconvert_exporter": "python",
   "pygments_lexer": "ipython3",
   "version": "3.13.5"
  }
 },
 "nbformat": 4,
 "nbformat_minor": 5
}
