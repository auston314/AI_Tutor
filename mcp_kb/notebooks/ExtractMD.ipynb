{
 "cells": [
  {
   "cell_type": "code",
   "execution_count": 7,
   "id": "cd37d0a2-7e50-40cf-b7a3-e41402841f12",
   "metadata": {},
   "outputs": [
    {
     "name": "stdout",
     "output_type": "stream",
     "text": [
      "['Preface.ipynb', 'Chapter_1.ipynb', 'Chapter_2.ipynb', 'Chapter_3.ipynb', 'Chapter_4.ipynb', 'Chapter_5.ipynb', 'Chapter_6.ipynb', 'Chapter_7.ipynb', 'Chapter_8.ipynb', 'Chapter_9.ipynb', 'Chapter_10.ipynb', 'Chapter_11.ipynb', 'Chapter_12.ipynb', 'Chapter_13.ipynb', 'Chapter_14.ipynb', 'Chapter_15.ipynb', 'Chapter_16.ipynb', 'Chapter_17.ipynb', 'Chapter_18.ipynb', 'Chapter_19.ipynb', 'Chapter_20.ipynb', 'Chapter_21.ipynb', 'Appendix_A.ipynb', 'Appendix_B.ipynb', 'Appendix_C.ipynb', 'Appendix_D.ipynb', 'Appendix_E.ipynb', 'Appendix_F.ipynb', 'Appendix_G.ipynb', 'Appendix_H.ipynb', 'Appendix_I.ipynb', 'Appendix_J.ipynb', 'Appendix_K.ipynb', 'Appendix_L.ipynb', 'Appendix_M.ipynb']\n"
     ]
    }
   ],
   "source": [
    "# Extract markdown text from notebook and save it\n",
    "\n",
    "chapters = ['Preface.ipynb']+[f\"Chapter_{i}.ipynb\" for i in range(1, 22)] + [f\"Appendix_{x}.ipynb\" for x in \"ABCDEFGHIJKLM\"]\n",
    "print(chapters)"
   ]
  },
  {
   "cell_type": "code",
   "execution_count": 8,
   "id": "dd12eab3-ead5-4225-82fc-ed83c086b104",
   "metadata": {},
   "outputs": [],
   "source": [
    "import json\n",
    "for chap in chapters:\n",
    "    chap_name = chap[:-6]\n",
    "    with open(chap, 'r') as f:\n",
    "        x = json.load(f)\n",
    "    sents = x['cells'][0]['source']\n",
    "    md = \"\".join(sents)\n",
    "    with open(f\"new_md/{chap_name}.md\", \"w\") as f:\n",
    "        f.write(md)"
   ]
  },
  {
   "cell_type": "code",
   "execution_count": null,
   "id": "da93d482-8b8c-400f-a689-0733095e5c1f",
   "metadata": {},
   "outputs": [],
   "source": []
  }
 ],
 "metadata": {
  "kernelspec": {
   "display_name": "Python 3 (ipykernel)",
   "language": "python",
   "name": "python3"
  },
  "language_info": {
   "codemirror_mode": {
    "name": "ipython",
    "version": 3
   },
   "file_extension": ".py",
   "mimetype": "text/x-python",
   "name": "python",
   "nbconvert_exporter": "python",
   "pygments_lexer": "ipython3",
   "version": "3.12.11"
  }
 },
 "nbformat": 4,
 "nbformat_minor": 5
}
