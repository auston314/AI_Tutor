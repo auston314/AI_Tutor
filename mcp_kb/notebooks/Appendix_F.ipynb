{
 "cells": [
  {
   "cell_type": "markdown",
   "id": "13cac38f-3aa8-4883-80de-5720b59e5fa7",
   "metadata": {},
   "source": [
    "## Appendix F\n",
    "\n",
    "Table F1 **Composition of Commercial Acids and Bases**\n",
    "\n",
    "| Acid or Base ${ }^{[1]}$ | Density $(\\mathrm{g}) / \\mathrm{mL})^{[2]}$ | Percentage by Mass | Molarity |\n",
    "| :------------------ | :------------------------------------------- | :----------------- | :------- |\n",
    "| acetic acid, glacial | 1.05 | 99.5% | 17.4 |\n",
    "| aqueous ammonia ${ }^{[3]}$ | 0.90 | 28% | 14.8 |\n",
    "| hydrochloric acid | 1.18 | 36% | 11.6 |\n",
    "| nitric acid | 1.42 | 71% | 16.0 |\n",
    "| perchloric acid | 1.67 | 70% | 11.65 |\n",
    "| phosphoric acid | 1.70 | 85% | 14.7 |\n",
    "| sodium hydroxide | 1.53 | 50% | 19.1 |\n",
    "| sulfuric acid | 1.84 | 96% | 18.0 |\n",
    "\n",
    "    1. Acids and bases are commercially available as aqueous solutions. This table lists properties (densities and concentrations) of common acid and base solutions. Nominal values are provided in cases where the manufacturer cites a range of concentrations and densities.\n",
    "    2. This column contains specific gravity data. In the case of this table, specific gravity is the ratio of density of a substance to the density of pure water at the same conditions. Specific gravity is often cited on commercial labels.\n",
    "    3. This solution is sometimes called \"ammonium hydroxide,\" although this term is not chemically accurate.\n",
    "\n"
   ]
  },
  {
   "cell_type": "code",
   "execution_count": null,
   "id": "1757e97a-1242-46fb-bb5e-9ddb4cc704e3",
   "metadata": {},
   "outputs": [],
   "source": []
  }
 ],
 "metadata": {
  "kernelspec": {
   "display_name": "Python 3 (ipykernel)",
   "language": "python",
   "name": "python3"
  },
  "language_info": {
   "codemirror_mode": {
    "name": "ipython",
    "version": 3
   },
   "file_extension": ".py",
   "mimetype": "text/x-python",
   "name": "python",
   "nbconvert_exporter": "python",
   "pygments_lexer": "ipython3",
   "version": "3.13.5"
  }
 },
 "nbformat": 4,
 "nbformat_minor": 5
}
