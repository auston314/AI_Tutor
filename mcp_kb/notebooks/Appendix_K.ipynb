{
 "cells": [
  {
   "cell_type": "markdown",
   "id": "536fdb08-286b-42ae-a66a-72d79122b59a",
   "metadata": {},
   "source": [
    "## Appendix K \n",
    "\n",
    "### Formation Constants For Complex Ions\n",
    "\n",
    "Table K1 **Formation Constants for Complex Ions**\n",
    "\n",
    "| Equilibrium | $K_{1}$ |\n",
    "| :--: | :--: |\n",
    "| $\\mathrm{Al}^{3+}+6 \\mathrm{~F}^{-} \\rightleftharpoons\\left[\\mathrm{AlF}_{6}\\right]^{3-}$ | $7 \\times 10^{19}$ |\n",
    "| $\\mathrm{Cd}^{2+}+4 \\mathrm{NH}_{3} \\rightleftharpoons\\left[\\mathrm{Cd}\\left(\\mathrm{NH}_{3}\\right)_{4}\\right]^{2+}$ | $1.3 \\times 10^{7}$ |\n",
    "| $\\mathrm{Cd}^{2+}+4 \\mathrm{CN}^{-} \\rightleftharpoons\\left[\\mathrm{Cd}(\\mathrm{CN})_{4}\\right]^{2-}$ | $3 \\times 10^{18}$ |\n",
    "| $\\mathrm{Co}^{2+}+6 \\mathrm{NH}_{3} \\rightleftharpoons\\left[\\mathrm{Co}\\left(\\mathrm{NH}_{3}\\right)_{6}\\right]^{2+}$ | $1.3 \\times 10^{5}$ |\n",
    "| $\\mathrm{Co}^{3+}+6 \\mathrm{NH}_{3} \\rightleftharpoons\\left[\\mathrm{Co}\\left(\\mathrm{NH}_{3}\\right)_{6}\\right]^{3+}$ | $2.3 \\times 10^{33}$ |\n",
    "| $\\mathrm{Cu}^{+}+2 \\mathrm{CN} \\rightleftharpoons\\left[\\mathrm{Cu}(\\mathrm{CN})_{2}\\right]^{-}$ | $1.0 \\times 10^{16}$ |\n",
    "| $\\mathrm{Cu}^{2+}+4 \\mathrm{NH}_{3} \\rightleftharpoons\\left[\\mathrm{Cu}\\left(\\mathrm{NH}_{3}\\right)_{4}\\right]^{2+}$ | $1.7 \\times 10^{13}$ |\n",
    "| $\\mathrm{Fe}^{2+}+6 \\mathrm{CN}^{-} \\rightleftharpoons\\left[\\mathrm{Fe}(\\mathrm{CN})_{6}\\right]^{4-}$ | $1.5 \\times 10^{35}$ |\n",
    "| $\\mathrm{Fe}^{3+}+6 \\mathrm{CN}^{-} \\rightleftharpoons\\left[\\mathrm{Fe}(\\mathrm{CN})_{6}\\right]^{3-}$ | $2 \\times 10^{43}$ |\n",
    "| $\\mathrm{Fe}^{3+}+6 \\mathrm{SCN}^{-} \\rightleftharpoons\\left[\\mathrm{Fe}(\\mathrm{SCN})_{6}\\right]^{3-}$ | $3.2 \\times 10^{3}$ |\n",
    "| $\\mathrm{Hg}^{2+}+4 \\mathrm{Cl}^{-} \\rightleftharpoons\\left[\\mathrm{HgCl}_{4}\\right]^{2-}$ | $1.1 \\times 10^{16}$ |\n",
    "| $\\mathrm{Ni}^{2+}+6 \\mathrm{NH}_{3} \\rightleftharpoons\\left[\\mathrm{Ni}\\left(\\mathrm{NH}_{3}\\right)_{6}\\right]^{2+}$ | $2.0 \\times 10^{8}$ |\n",
    "| $\\mathrm{Ag}^{+}+2 \\mathrm{Cl}^{-} \\rightleftharpoons\\left[\\mathrm{AgCl}_{2}\\right]^{-}$ | $1.8 \\times 10^{5}$ |\n",
    "| $\\mathrm{Ag}^{+}+2 \\mathrm{CN}^{-} \\rightleftharpoons\\left[\\mathrm{Ag}(\\mathrm{CN})_{2}\\right]^{-}$ | $1 \\times 10^{21}$ |\n",
    "| $\\mathrm{Ag}^{+}+2 \\mathrm{NH}_{3} \\rightleftharpoons\\left[\\mathrm{Ag}\\left(\\mathrm{NH}_{3}\\right)_{2}\\right]^{+}$ | $1.7 \\times 10^{7}$ |\n",
    "| $\\mathrm{Zn}^{2+}+4 \\mathrm{CN}^{-} \\rightleftharpoons\\left[\\mathrm{Zn}(\\mathrm{CN})_{4}\\right]^{2-}$ | $2.1 \\times 10^{19}$ |\n",
    "| $\\mathrm{Zn}^{2+}+4 \\mathrm{OH}^{-} \\rightleftharpoons\\left[\\mathrm{Zn}(\\mathrm{OH})_{4}\\right]^{2-}$ | $2 \\times 10^{15}$ |\n",
    "| $\\mathrm{Fe}^{3+}+\\mathrm{SCN}^{-} \\rightleftharpoons|\\mathrm{Fe}(\\mathrm{SCN})|^{2+}$ | $8.9 \\times 10^{2}$ |\n",
    "| $\\mathrm{Ag}^{+}+4 \\mathrm{SCN}^{-} \\rightleftharpoons\\left[\\mathrm{Ag}(\\mathrm{SCN})_{4}\\right]^{3-}$ | $1.2 \\times 10^{10}$ |\n",
    "| $\\mathrm{~Pb}^{2+}+4 \\mathrm{I}^{-} \\rightleftharpoons\\left[\\mathrm{PbI}_{4}\\right]^{2-}$ | $3.0 \\times 10^{4}$ |\n",
    "| $\\mathrm{Pt}^{2+}+4 \\mathrm{Cl}^{-} \\rightleftharpoons\\left[\\mathrm{PtCl}_{4}\\right]^{2-}$ | $1 \\times 10^{16}$ |\n",
    "| $\\mathrm{Cu}^{2+}+4 \\mathrm{CN} \\rightleftharpoons\\left[\\mathrm{Cu}(\\mathrm{CN})_{4}\\right]^{2-}$ | $1.0 \\times 10^{25}$ |\n",
    "| $\\mathrm{Co}^{2+}+4 \\mathrm{SCN}^{-} \\rightleftharpoons\\left[\\mathrm{Co}(\\mathrm{SCN})_{4}\\right]^{2-}$ | $1 \\times 10^{3}$ |\n",
    "\n",
    "\n"
   ]
  },
  {
   "cell_type": "code",
   "execution_count": null,
   "id": "3af2a5a6-1818-4a00-b7c8-2eaa56244da2",
   "metadata": {},
   "outputs": [],
   "source": []
  }
 ],
 "metadata": {
  "kernelspec": {
   "display_name": "Python 3 (ipykernel)",
   "language": "python",
   "name": "python3"
  },
  "language_info": {
   "codemirror_mode": {
    "name": "ipython",
    "version": 3
   },
   "file_extension": ".py",
   "mimetype": "text/x-python",
   "name": "python",
   "nbconvert_exporter": "python",
   "pygments_lexer": "ipython3",
   "version": "3.13.5"
  }
 },
 "nbformat": 4,
 "nbformat_minor": 5
}
