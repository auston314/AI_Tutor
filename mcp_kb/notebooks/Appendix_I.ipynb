{
 "cells": [
  {
   "cell_type": "markdown",
   "id": "917a624a-4b90-477a-89b0-cad6a439465d",
   "metadata": {},
   "source": [
    "## Appendix I \n",
    "\n",
    "### Ionization Constants Of Weak Bases\n",
    "\n",
    "Table 11 **Ionization Constants of Weak Bases**\n",
    "\n",
    "| Base | Lewis Structure | $K_{b}$ at $25^{\\circ} \\mathrm{C}$ |\n",
    "| :--: | :--: | :--: |\n",
    "| ammonia | ![Image](Appendix_I_images/img-1.png) | $1.8 \\times 10^{-5}$ |\n",
    "| dimethylamine | ![Image](Appendix_I_images/img-2.png) | $5.9 \\times 10^{-4}$ |\n",
    "| methylamine | ![Image](Appendix_I_images/img-3.png) | $4.4 \\times 10^{-4}$ |\n",
    "| phenylamine (aniline) | ![Image](Appendix_I_images/img-4.png)  | $4.3 \\times 10^{-10}$ |\n",
    "| trimethylamine | ![Image](Appendix_I_images/img-5.png)  | $6.3 \\times 10^{-5}$ |\n",
    "\n",
    "\n",
    "\n",
    "\n"
   ]
  },
  {
   "cell_type": "code",
   "execution_count": null,
   "id": "df482a35-3244-457b-b125-25c58e5f9cbe",
   "metadata": {},
   "outputs": [],
   "source": []
  }
 ],
 "metadata": {
  "kernelspec": {
   "display_name": "Python 3 (ipykernel)",
   "language": "python",
   "name": "python3"
  },
  "language_info": {
   "codemirror_mode": {
    "name": "ipython",
    "version": 3
   },
   "file_extension": ".py",
   "mimetype": "text/x-python",
   "name": "python",
   "nbconvert_exporter": "python",
   "pygments_lexer": "ipython3",
   "version": "3.13.5"
  }
 },
 "nbformat": 4,
 "nbformat_minor": 5
}
