{
 "cells": [
  {
   "cell_type": "markdown",
   "id": "cd825db4-8ccd-4da9-a8f3-a8356c04f730",
   "metadata": {},
   "source": [
    "## Appendix M \n",
    "\n",
    "### Half-Lives For Several Radioactive Isotopes\n",
    "\n",
    "Table M1 **Half-Lives for Several Radioactive Isotopes**\n",
    "\n",
    "| Isotope | Half-Life ${ }^{[1]}$ | Type of Emission ${ }^{[2]}$ | Isotope | Half-Life ${ }^{[3]}$ | Type of Emission ${ }^{[4]}$ |\n",
    "| :--: | :--: | :--: | :--: | :--: | :--: |\n",
    "| ${ }_{6}^{14} \\mathrm{C}$ | 5730 y | $\\left(\\beta^{-}\\right)$ | ${ }_{83}^{210} \\mathrm{Bi}$ | 5.01 d | $\\left(\\beta^{-}\\right)$ |\n",
    "| ${ }_{7}^{13} \\mathrm{~N}$ | 9.97 m | $\\left(\\beta^{+}\\right)$ | ${ }_{83}^{212} \\mathrm{Bi}$ | 60.55 m | $\\left(\\alpha\\right.$ or $\\beta^{-}$) |\n",
    "| ${ }_{9}^{15} \\mathrm{~F}$ | $4.1 \\times 10^{-22} \\mathrm{~s}$ | $(p)$ | ${ }_{84}^{210} \\mathrm{Po}$ | 138.4 d | $(\\alpha)$ |\n",
    "| ${ }_{11}^{24} \\mathrm{Na}$ | 15.00 h | $\\left(\\beta^{-}\\right)$ | ${ }_{84}^{212} \\mathrm{Po}$ | $3 \\times 10^{-7} \\mathrm{~s}$ | $(\\alpha)$ |\n",
    "| ${ }_{15}^{32} \\mathrm{P}$ | 14.29 d | $\\left(\\beta^{-}\\right)$ | ${ }_{84}^{216} \\mathrm{Po}$ | 0.15 s | $(\\alpha)$ |\n",
    "| ${ }_{19}^{40} \\mathrm{~K}$ | $1.27 \\times 10^{9} \\mathrm{y}$ | ( $\\beta$ or E.C.) | ${ }_{84}^{218} \\mathrm{Po}$ | 3.05 m | $(\\alpha)$ |\n",
    "| ${ }_{26}^{49} \\mathrm{Fe}$ | 0.08 s | $\\left(\\beta^{+}\\right)$ | ${ }_{85}^{215} \\mathrm{At}$ | $1.0 \\times 10^{-4} \\mathrm{~s}$ | $(\\alpha)$ |\n",
    "| ${ }_{26}^{60} \\mathrm{Fe}$ | $2.6 \\times 10^{6} \\mathrm{y}$ | $\\left(\\beta^{-}\\right)$ | ${ }_{85}^{218} \\mathrm{At}$ | 1.6 s | $(\\alpha)$ |\n",
    "| ${ }_{27}^{60} \\mathrm{Co}$ | 5.27 y | $\\left(\\beta^{-}\\right)$ | ${ }_{86}^{220} \\mathrm{Rn}$ | 55.6 s | $(\\alpha)$ |\n",
    "| ${ }_{37}^{87} \\mathrm{Rb}$ | $4.7 \\times 10^{10} \\mathrm{y}$ | $\\left(\\beta^{-}\\right)$ | ${ }_{86}^{222} \\mathrm{Rn}$ | 3.82 d | $(\\alpha)$ |\n",
    "| ${ }_{38}^{90} \\mathrm{Sr}$ | 29 y | $\\left(\\beta^{-}\\right)$ | ${ }_{88}^{224} \\mathrm{Ra}$ | 3.66 d | $(\\alpha)$ |\n",
    "| ${ }_{49}^{115} \\mathrm{In}$ | $5.1 \\times 10^{15} \\mathrm{y}$ | $\\left(\\beta^{-}\\right)$ | ${ }_{88}^{226} \\mathrm{Ra}$ | 1600 y | $(\\alpha)$ |\n",
    "| ${ }_{53}^{131} \\mathrm{I}$ | 8.040 d | $\\left(\\beta^{-}\\right)$ | ${ }_{88}^{228} \\mathrm{Ra}$ | 5.75 y | $\\left(\\beta^{-}\\right)$ |\n",
    "| ${ }_{58}^{142} \\mathrm{Ce}$ | $5 \\times 10^{15} \\mathrm{y}$ | $(\\alpha)$ | ${ }_{89}^{228} \\mathrm{Ac}$ | 6.13 h | $\\left(\\beta^{-}\\right)$ |\n",
    "| ${ }_{81}^{208} \\mathrm{Tl}$ | 3.07 m | $\\left(\\beta^{-}\\right)$ | ${ }_{90}^{228} \\mathrm{Th}$ | 1.913 y | $(\\alpha)$ |\n",
    "| ${ }_{82}^{210} \\mathrm{~Pb}$ | 22.3 y | $\\left(\\beta^{-}\\right)$ | ${ }_{90}^{232} \\mathrm{Th}$ | $1.4 \\times 10^{10} \\mathrm{y}$ | $(\\alpha)$ |\n",
    "| ${ }_{82}^{212} \\mathrm{~Pb}$ | 10.6 h | $\\left(\\beta^{-}\\right)$ | ${ }_{90}^{233} \\mathrm{Th}$ | 22 m | $\\left(\\beta^{-}\\right)$ |\n",
    "| ${ }_{83}^{214} \\mathrm{~Pb}$ | 26.8 m | $\\left(\\beta^{-}\\right)$ | ${ }_{90}^{234} \\mathrm{Th}$ | 24.10 d | $\\left(\\beta^{-}\\right)$ |\n",
    "| ${ }_{83}^{206} \\mathrm{Bi}$ | 6.243 d | (E.C.) | ${ }_{91}^{233} \\mathrm{~Pa}$ | 27 d | $\\left(\\beta^{-}\\right)$ |\n",
    "| ${ }_{92}^{233} \\mathrm{U}$ | $1.59 \\times 10^{5} \\mathrm{y}$ | $(\\alpha)$ | ${ }_{96}^{242} \\mathrm{Cm}$ | 162.8 d | $(\\alpha)$ |\n",
    "| ${ }_{92}^{234} \\mathrm{U}$ | $2.45 \\times 10^{5} \\mathrm{y}$ | $(\\alpha)$ | ${ }_{97}^{243} \\mathrm{Bk}$ | 4.5 h | ( $\\alpha$ or E.C.) |\n",
    "| ${ }_{92}^{235} \\mathrm{U}$ | $7.03 \\times 10^{8} \\mathrm{y}$ | $(\\alpha)$ | ${ }_{99}^{253} \\mathrm{Es}$ | 20.47 d | $(\\alpha)$ |\n",
    "| ${ }_{92}^{238} \\mathrm{U}$ | $4.47 \\times 10^{9} \\mathrm{y}$ | $(\\alpha)$ | ${ }_{100}^{254} \\mathrm{Fm}$ | 3.24 h | ( $\\alpha$ or S.F.) |\n",
    "| ${ }_{92}^{239} \\mathrm{U}$ | 23.54 m | $\\left(\\beta^{-}\\right)$ | ${ }_{100}^{255} \\mathrm{Fm}$ | 20.1 h | $(\\alpha)$ |\n",
    "| ${ }_{93}^{239} \\mathrm{~Np}$ | 2.3 d | $\\left(\\beta^{-}\\right)$ | ${ }_{101}^{256} \\mathrm{Md}$ | 76 m | ( $\\alpha$ or E.C.) |\n",
    "| ${ }_{94}^{239} \\mathrm{Pu}$ | $2.407 \\times 10^{4} \\mathrm{y}$ | $(\\alpha)$ | ${ }_{102}^{254} \\mathrm{No}$ | 55 s | $(\\alpha)$ |\n",
    "| ${ }_{94}^{239} \\mathrm{Pu}$ | $6.54 \\times 10^{3} \\mathrm{y}$ | $(\\alpha)$ | ${ }_{103}^{257} \\mathrm{Lr}$ | 0.65 s | $(\\alpha)$ |\n",
    "| ${ }_{94}^{241} \\mathrm{Pu}$ | 14.4 y | $\\left(\\alpha\\right.$ or $\\left.\\beta^{-}\\right)$ | ${ }_{105}^{260} \\mathrm{Ha}$ | 1.5 s | ( $\\alpha$ or S.F.) |\n",
    "| ${ }_{95}^{241} \\mathrm{Am}$ | 432.2 y | $(\\alpha)$ | ${ }_{106}^{263} \\mathrm{Sg}$ | 0.8 s | ( $\\alpha$ or S.F.) |\n",
    "\n",
    "\n",
    "\n",
    "\n",
    "1. $\\mathrm{y}=$ years, $\\mathrm{d}=$ days, $\\mathrm{h}=$ hours, $\\mathrm{m}=$ minutes, $\\mathrm{s}=$ seconds\n",
    "2. E.C. $=$ electron capture, S.F. $=$ Spontaneous fission\n",
    "3. $\\mathrm{y}=$ years, $\\mathrm{d}=$ days, $\\mathrm{h}=$ hours, $\\mathrm{m}=$ minutes, $\\mathrm{s}=$ seconds\n",
    "4. E.C. $=$ electron capture, S.F. $=$ Spontaneous fission"
   ]
  },
  {
   "cell_type": "code",
   "execution_count": null,
   "id": "7f5cd65b-f62e-493f-89fa-58572dd60c19",
   "metadata": {},
   "outputs": [],
   "source": []
  }
 ],
 "metadata": {
  "kernelspec": {
   "display_name": "Python 3 (ipykernel)",
   "language": "python",
   "name": "python3"
  },
  "language_info": {
   "codemirror_mode": {
    "name": "ipython",
    "version": 3
   },
   "file_extension": ".py",
   "mimetype": "text/x-python",
   "name": "python",
   "nbconvert_exporter": "python",
   "pygments_lexer": "ipython3",
   "version": "3.13.5"
  }
 },
 "nbformat": 4,
 "nbformat_minor": 5
}
